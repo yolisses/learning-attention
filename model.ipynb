{
 "cells": [
  {
   "cell_type": "code",
   "execution_count": 55,
   "metadata": {},
   "outputs": [],
   "source": [
    "import tensorflow as tf\n",
    "import matplotlib.pyplot as plt"
   ]
  },
  {
   "cell_type": "code",
   "execution_count": 56,
   "metadata": {},
   "outputs": [],
   "source": [
    "num_heads = 3\n",
    "embedding_size = 4\n",
    "key_dim = 5\n",
    "value_dim = 6\n",
    "\n",
    "inputs = tf.keras.layers.Input([None, embedding_size])\n",
    "multi_head_attention = tf.keras.layers.MultiHeadAttention(\n",
    "    num_heads,\n",
    "    key_dim,\n",
    "    value_dim,\n",
    ")(inputs, inputs)\n",
    "model = tf.keras.Model(inputs, multi_head_attention)"
   ]
  },
  {
   "cell_type": "code",
   "execution_count": 57,
   "metadata": {},
   "outputs": [
    {
     "data": {
      "text/plain": [
       "<matplotlib.image.AxesImage at 0x7f786042c970>"
      ]
     },
     "execution_count": 57,
     "metadata": {},
     "output_type": "execute_result"
    },
    {
     "data": {
      "image/png": "[encoded data removed]",
      "text/plain": [
       "<Figure size 640x480 with 1 Axes>"
      ]
     },
     "metadata": {},
     "output_type": "display_data"
    }
   ],
   "source": [
    "batch_size = 10\n",
    "series_size = 7\n",
    "\n",
    "x = tf.random.uniform([batch_size, series_size, embedding_size])\n",
    "plt.imshow(x[0])"
   ]
  },
  {
   "cell_type": "code",
   "execution_count": 58,
   "metadata": {},
   "outputs": [
    {
     "name": "stdout",
     "output_type": "stream",
     "text": [
      "(10, 7, 4)\n"
     ]
    },
    {
     "data": {
      "image/png": "[encoded data removed]",
      "text/plain": [
       "<Figure size 640x480 with 1 Axes>"
      ]
     },
     "metadata": {},
     "output_type": "display_data"
    }
   ],
   "source": [
    "y = model(x)\n",
    "print(y.shape)\n",
    "plt.imshow(y[0])\n",
    "plt.show()"
   ]
  },
  {
   "cell_type": "code",
   "execution_count": 59,
   "metadata": {},
   "outputs": [
    {
     "name": "stdout",
     "output_type": "stream",
     "text": [
      "multi_head_attention_10/query/kernel:0 (4, 3, 5)\n",
      "multi_head_attention_10/query/bias:0 (3, 5)\n",
      "multi_head_attention_10/key/kernel:0 (4, 3, 5)\n",
      "multi_head_attention_10/key/bias:0 (3, 5)\n",
      "multi_head_attention_10/value/kernel:0 (4, 3, 6)\n",
      "multi_head_attention_10/value/bias:0 (3, 6)\n",
      "multi_head_attention_10/attention_output/kernel:0 (3, 6, 4)\n",
      "multi_head_attention_10/attention_output/bias:0 (4,)\n"
     ]
    }
   ],
   "source": [
    "for variable in model.trainable_variables:\n",
    "    print(variable.name, variable.shape)"
   ]
  }
 ],
 "metadata": {
  "kernelspec": {
   "display_name": "env",
   "language": "python",
   "name": "python3"
  },
  "language_info": {
   "codemirror_mode": {
    "name": "ipython",
    "version": 3
   },
   "file_extension": ".py",
   "mimetype": "text/x-python",
   "name": "python",
   "nbconvert_exporter": "python",
   "pygments_lexer": "ipython3",
   "version": "3.10.12"
  }
 },
 "nbformat": 4,
 "nbformat_minor": 2
}
